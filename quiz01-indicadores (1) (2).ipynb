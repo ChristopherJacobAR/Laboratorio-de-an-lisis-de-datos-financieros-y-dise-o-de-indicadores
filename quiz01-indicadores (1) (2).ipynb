{
 "cells": [
  {
   "cell_type": "markdown",
   "id": "ad754eab",
   "metadata": {},
   "source": [
    "# Quiz 1\n",
    "## Christopher Jacob Ahumada Robles \n",
    "## Pregunta 1\n",
    "\n",
    "### Contexto del Caso:\n",
    "\n",
    "#### Contexto de la Compañía:\n",
    "\n",
    "AlfaTech es una empresa de desarrollo de software que se especializa en soluciones para la gestión de recursos humanos. La empresa ha estado enfrentando desafíos para mantener la eficiencia operativa mientras escala rápidamente para atender a un mercado más amplio.\n",
    "\n",
    "#### Datos Disponibles:\n",
    "\n",
    "- Ingresos Mensuales\n",
    "- Horas de Mantenimiento del Sistema\n",
    "- Tickets de Soporte Mensuales\n",
    "- Costos de Operaciones\n",
    "- Satisfacción del Cliente\n",
    "- Web_Traffic\n",
    "\n",
    "#### Problema:\n",
    "\n",
    "Recientemente, AlfaTech ha experimentado un aumento en los tickets de soporte, lo que ha afectado la satisfacción general del cliente. El equipo directivo desea monitorear un KPI operacional que les permita evaluar y mejorar la eficiencia del soporte técnico.\n",
    "\n",
    "#### Pregunta:\n",
    "\n",
    "¿Cuál de los siguientes KPIs sería el más adecuado para que AlfaTech monitoree la eficiencia del soporte técnico y tome medidas correctivas?\n",
    "\n",
    "1. Ingresos Mensuales (Ingresos totales generados en un mes)\n",
    "2. Horas de Mantenimiento del Sistema (Total de horas dedicadas al mantenimiento de sistemas en un mes)\n",
    "3. Tickets de Soporte Mensuales (Número total de tickets de soporte generados por los usuarios en un mes)\n",
    "4. Costos de Operaciones (Gastos totales relacionados con las operaciones del negocio en un mes)"
   ]
  },
  {
   "cell_type": "markdown",
   "id": "6402a36e",
   "metadata": {},
   "source": [
    "3.-Tickets de Soporte Mensuales \n",
    "- Porque mientras menos tickets haya significa que las soluciones del equipo de soporte son mas eficientes, por tanto disminuye la cantidad de incidentes reportados"
   ]
  },
  {
   "cell_type": "markdown",
   "id": "5a103796",
   "metadata": {},
   "source": [
    "## Pregunta 2\n",
    "\n",
    "Este conjunto de datos representa transacciones de clientes múltiples con diferentes cohortes y varias transacciones. Cada fila es una transacción, donde 'State' puede ser 'Active' (activa) o 'Cancelled' (cancelada). Solo las transacciones activas contribuyen al cálculo del CLTV."
   ]
  },
  {
   "cell_type": "code",
   "execution_count": 1,
   "id": "60e5d8b9",
   "metadata": {
    "tags": []
   },
   "outputs": [],
   "source": [
    "import pandas as pd\n",
    "import numpy as np\n",
    "\n",
    "np.random.seed(42)\n",
    "\n",
    "dates = pd.date_range(start=\"2019-01-01\", end=\"2021-12-31\", freq='M')\n",
    "cohorts = ['2019-01', '2019-06', '2020-01', '2020-06', '2021-01']\n",
    "\n",
    "num_customers = 100\n",
    "customer_ids = np.arange(1, num_customers + 1)\n",
    "customer_cohorts = np.random.choice(cohorts, size=num_customers, replace=True)\n",
    "\n",
    "customers_df = pd.DataFrame({\n",
    "    'Customer_ID': customer_ids,\n",
    "    'Cohort': customer_cohorts\n",
    "})\n",
    "\n",
    "transactions = []\n",
    "\n",
    "for index, row in customers_df.iterrows():\n",
    "    num_transactions = np.random.poisson(5) \n",
    "    transaction_dates = np.sort(np.random.choice(dates, size=num_transactions, replace=False))\n",
    "    \n",
    "    for date in transaction_dates:\n",
    "        amount = np.random.normal(100, 20)  \n",
    "        state = 'Active' if np.random.rand() > 0.1 else 'Cancelled'\n",
    "        transactions.append([row['Customer_ID'], row['Cohort'], date, amount, state])\n",
    "\n",
    "transactions_df = pd.DataFrame(transactions, columns=['Customer_ID', 'Cohort', 'Transaction_Date', 'Amount', 'State'])"
   ]
  },
  {
   "cell_type": "markdown",
   "id": "309c3934",
   "metadata": {},
   "source": [
    "Dado el conjunto de datos, calcule el CLTV que llevamos adquirido del cliente con ID 007. Asuma que el margen de beneficio es del 20%."
   ]
  },
  {
   "attachments": {
    "380364ab-ec9e-4ef9-aaff-d3320b9e67c3.png": {
     "image/png": "[encoded data removed]"
    }
   },
   "cell_type": "markdown",
   "id": "26904ed2-383c-4ff3-8fdd-ff8b6e910b48",
   "metadata": {
    "tags": []
   },
   "source": [
    "- **Customer Lifetime Value (CLTV):** Predice el revenue total que un negocio puede esperar de manera razonable de un cliente a traves de la relación comercial que tenga con el negocio.\n",
    "    - Formula: $\\text{CLTV} = \\frac{\\text{Average Revenue per User (ARPU)} \\times \\text{Gross Margin}}{\\text{Churn Rate}}$\n",
    "    \n",
    "    ![image.png](attachment:380364ab-ec9e-4ef9-aaff-d3320b9e67c3.png)"
   ]
  },
  {
   "cell_type": "code",
   "execution_count": 14,
   "id": "1da76e38-ec03-4708-acb7-02aa0d38e366",
   "metadata": {
    "tags": []
   },
   "outputs": [
    {
     "data": {
      "text/plain": [
       "97.51783139827106"
      ]
     },
     "execution_count": 14,
     "metadata": {},
     "output_type": "execute_result"
    }
   ],
   "source": [
    "net_value_007=transactions_df[transactions_df['Customer_ID'] == 007.]\n",
    "net_value_007['Amount'].sum()*0.2"
   ]
  },
  {
   "cell_type": "code",
   "execution_count": 15,
   "id": "ffb26aae-6a0c-4ae5-975a-b445d9e84c57",
   "metadata": {
    "tags": []
   },
   "outputs": [],
   "source": [
    "active=transactions_df[transactions_df['State'] == 'Active']"
   ]
  },
  {
   "cell_type": "code",
   "execution_count": 21,
   "id": "b3f54ca6-8950-45f6-86df-35a7da82d6dc",
   "metadata": {
    "tags": []
   },
   "outputs": [
    {
     "data": {
      "text/plain": [
       "75.40008935165584"
      ]
     },
     "execution_count": 21,
     "metadata": {},
     "output_type": "execute_result"
    }
   ],
   "source": [
    "net_value_007=active[active['Customer_ID'] == 007.]\n",
    "net_value_007['Amount'].sum()*0.2"
   ]
  },
  {
   "cell_type": "code",
   "execution_count": null,
   "id": "945ffbe5-bad5-45d6-90d8-17e794d22844",
   "metadata": {
    "tags": []
   },
   "outputs": [],
   "source": []
  },
  {
   "cell_type": "code",
   "execution_count": null,
   "id": "b2640386-9b4d-4f48-b6f8-97cd316d1407",
   "metadata": {},
   "outputs": [],
   "source": []
  }
 ],
 "metadata": {
  "kernelspec": {
   "display_name": "Python 3 (ipykernel)",
   "language": "python",
   "name": "python3"
  },
  "language_info": {
   "codemirror_mode": {
    "name": "ipython",
    "version": 3
   },
   "file_extension": ".py",
   "mimetype": "text/x-python",
   "name": "python",
   "nbconvert_exporter": "python",
   "pygments_lexer": "ipython3",
   "version": "3.11.5"
  }
 },
 "nbformat": 4,
 "nbformat_minor": 5
}
